{
 "cells": [
  {
   "cell_type": "code",
   "execution_count": 1,
   "id": "bff68635",
   "metadata": {},
   "outputs": [],
   "source": [
    "import wandb\n",
    "import os\n",
    "import numpy as np\n",
    "import pandas as pd\n",
    "from argparse import ArgumentParser\n",
    "from pathlib import Path\n",
    "import itertools\n",
    "\n",
    "def fetch_data(groups, sweeps):\n",
    "    api =  wandb.Api()\n",
    "    sweep_runs = [api.sweep(f\"pfrommerd/diffusion_policy_sweeps/{s}\").runs for s in sweeps]\n",
    "    runs = itertools.chain(*sweep_runs)\n",
    "    run_datas = []\n",
    "    for r in runs:\n",
    "        num_data = r.config['task']['dataset']['max_train_episodes']\n",
    "        sigma = r.config['global_cond_noise']\n",
    "        seed = r.config['training']['seed']\n",
    "        print(f\"Fetching {num_data}, {sigma} {r.id} {seed}\")\n",
    "        replica = r.history(keys=[\"test/replica_mean_score\"])\n",
    "        replica = np.array(replica[\"test/replica_mean_score\"])\n",
    "        deconv = r.history(keys=[\"test/deconv_mean_score\"])\n",
    "        deconv = np.array(deconv[\"test/deconv_mean_score\"])\n",
    "        run_datas.append({\n",
    "            \"num\": num_data,\n",
    "            \"sigma\": sigma,\n",
    "            \"type\": \"replica\",\n",
    "            \"seed\": seed,\n",
    "            \"max_score\": replica.max(),\n",
    "        })\n",
    "        run_datas.append({\n",
    "            \"num\": num_data,\n",
    "            \"sigma\": sigma,\n",
    "            \"type\": \"deconv\",\n",
    "            \"seed\": seed,\n",
    "            \"max_score\": deconv.max(),\n",
    "        })\n",
    "    data = pd.DataFrame(run_datas)\n",
    "    return data"
   ]
  },
  {
   "cell_type": "code",
   "execution_count": 2,
   "id": "28f60e47",
   "metadata": {},
   "outputs": [
    {
     "name": "stdout",
     "output_type": "stream",
     "text": [
      "Fetching 40, 1 361895iw 44\n",
      "Fetching 40, 1 9k0l0e4o 43\n",
      "Fetching 40, 1 3f4xcj1r 42\n",
      "Fetching 20, 1 md5x0099 44\n",
      "Fetching 20, 1 wmp5ou67 43\n",
      "Fetching 20, 1 scgbzxyc 42\n",
      "Fetching 10, 1 0sgahlsv 44\n",
      "Fetching 10, 1 ucteewkj 43\n",
      "Fetching 10, 1 8gi9aosc 42\n",
      "Fetching 40, 0.5 7lh8l3lr 44\n",
      "Fetching 40, 0.5 a6qlibb0 43\n",
      "Fetching 40, 0.5 oxa7ufnr 42\n",
      "Fetching 20, 0.5 1x4i7gr8 44\n",
      "Fetching 20, 0.5 saq5qr6d 43\n",
      "Fetching 20, 0.5 pof8g7c4 42\n",
      "Fetching 10, 0.5 fb69sal5 44\n",
      "Fetching 10, 0.5 hcu6ez0q 43\n",
      "Fetching 40, 0.1 5v7q5eu6 44\n",
      "Fetching 40, 0.1 bph5kdmw 43\n",
      "Fetching 40, 0.1 pg8px1yv 42\n",
      "Fetching 20, 0.1 7sobeawt 44\n",
      "Fetching 20, 0.1 c61rh13u 43\n",
      "Fetching 20, 0.1 u12sjghd 42\n",
      "Fetching 10, 0.1 t3766egy 44\n",
      "Fetching 10, 0.1 shgzyeyg 43\n",
      "Fetching 10, 0.1 qhzxxppf 42\n",
      "Fetching 40, 0.05 pd2pgnzq 44\n",
      "Fetching 40, 0.05 zh09osw2 43\n",
      "Fetching 40, 0.05 84e7k14i 42\n",
      "Fetching 20, 0.05 tgj07uqz 44\n",
      "Fetching 20, 0.05 t3w4mg4o 43\n",
      "Fetching 20, 0.05 6w5y2r6a 42\n",
      "Fetching 10, 0.05 c12a29cu 44\n",
      "Fetching 10, 0.05 e4rhj63l 43\n",
      "Fetching 10, 0.05 b8jd9ees 42\n",
      "Fetching 40, 0.005 c5vgx33o 44\n",
      "Fetching 40, 0.005 1kwdiufk 43\n",
      "Fetching 40, 0.005 jr9wph3z 42\n",
      "Fetching 20, 0.005 7o0gbv6j 44\n",
      "Fetching 20, 0.005 1u0xh97b 43\n",
      "Fetching 20, 0.005 pin3syrx 42\n",
      "Fetching 10, 0.005 tk879vqf 44\n",
      "Fetching 10, 0.005 dl7f0l5d 43\n",
      "Fetching 10, 0.005 b892ohjc 42\n",
      "Fetching 40, 0.001 v3eynh52 44\n",
      "Fetching 40, 0.001 z7tee264 43\n",
      "Fetching 40, 0.001 untjhm7g 42\n",
      "Fetching 20, 0.001 g4o54wq6 44\n",
      "Fetching 20, 0.001 4xj7cj2h 43\n",
      "Fetching 20, 0.001 9jxxhodi 42\n",
      "Fetching 10, 0.001 d3h8hei2 44\n",
      "Fetching 10, 0.001 xh5kt9vl 43\n",
      "Fetching 10, 0.001 ggi2v64e 42\n",
      "Fetching 40, 0.0001 pcmko920 44\n",
      "Fetching 40, 0.0001 ssckwbwm 43\n",
      "Fetching 10, 0.0001 nhiznnaw 44\n",
      "Fetching 10, 0.0001 d8987p4z 43\n",
      "Fetching 10, 0.0001 5pp6zeph 42\n",
      "Fetching 40, 0 k42vuyu6 44\n",
      "Fetching 40, 0 grq6e0zg 43\n",
      "Fetching 40, 0.0001 39d2rr6o 42\n",
      "Fetching 20, 0.0001 n6divleg 44\n",
      "Fetching 20, 0.0001 lozhlq21 43\n",
      "Fetching 20, 0.0001 30u55sqi 42\n",
      "Fetching 40, 0 o5ngxahv 42\n",
      "Fetching 20, 0 ic9zrajp 44\n",
      "Fetching 20, 0 tawcyn2e 43\n",
      "Fetching 10, 0 qoevmsdw 44\n",
      "Fetching 10, 0 l40ytwvy 43\n",
      "     num  sigma     type  seed  max_score\n",
      "0     40    1.0  replica    44   0.537591\n",
      "1     40    1.0   deconv    44   0.131739\n",
      "2     40    1.0  replica    43   0.501736\n",
      "3     40    1.0   deconv    43   0.137231\n",
      "4     40    1.0  replica    42   0.489139\n",
      "..   ...    ...      ...   ...        ...\n",
      "133   20    0.0   deconv    43   0.469178\n",
      "134   10    0.0  replica    44   0.368700\n",
      "135   10    0.0   deconv    44   0.366491\n",
      "136   10    0.0  replica    43   0.310814\n",
      "137   10    0.0   deconv    43   0.325579\n",
      "\n",
      "[138 rows x 5 columns]\n"
     ]
    }
   ],
   "source": [
    "data = fetch_data([],[\"54txftng\"])\n",
    "print(data)"
   ]
  },
  {
   "cell_type": "code",
   "execution_count": 6,
   "id": "00a2861a",
   "metadata": {},
   "outputs": [],
   "source": [
    "colors = [['red', 'darkred'],\n",
    "          ['green', 'darkgreen'],\n",
    "          ['blue', 'darkblue'],\n",
    "          ['orange', 'darkorange']]"
   ]
  },
  {
   "cell_type": "code",
   "execution_count": 7,
   "id": "a3498e53",
   "metadata": {},
   "outputs": [
    {
     "data": {
      "application/vnd.plotly.v1+json": {
       "config": {
        "plotlyServerURL": "https://plot.ly"
       },
       "data": [
        {
         "line": {
          "color": "red",
          "dash": "dash"
         },
         "name": "num=10,type=deconv",
         "opacity": 0.8,
         "type": "scatter",
         "x": [
          0,
          0.0001,
          0.001,
          0.005,
          0.05,
          0.1,
          0.5,
          1
         ],
         "y": [
          0.34603476923423987,
          0.32402419363277984,
          0.3186466479857607,
          0.3124907068457597,
          0.33224459930080275,
          0.3102266586895341,
          0.17344964887954656,
          0.139453341336109
         ]
        },
        {
         "fill": "toself",
         "fillcolor": "red",
         "hoverinfo": "skip",
         "line": {
          "color": "red"
         },
         "marker": {
          "opacity": 0
         },
         "opacity": 0.2,
         "showlegend": false,
         "type": "scatter",
         "x": [
          0,
          0.0001,
          0.001,
          0.005,
          0.05,
          0.1,
          0.5,
          1,
          1,
          0.5,
          0.1,
          0.05,
          0.005,
          0.001,
          0.0001,
          0
         ],
         "y": [
          0.3664905262549663,
          0.3810136558398898,
          0.3790192477241935,
          0.3594306157066005,
          0.3322837529510847,
          0.3409864171811919,
          0.17856326570295813,
          0.13983559588288302,
          0.1260741699024078,
          0.168336032056135,
          0.30140678447797276,
          0.3296408291421008,
          0.3115986992749989,
          0.3152846358862251,
          0.305788592398311,
          0.32557901221351343
         ]
        },
        {
         "line": {
          "color": "darkred"
         },
         "name": "num=10,type=replica",
         "opacity": 0.8,
         "type": "scatter",
         "x": [
          0,
          0.0001,
          0.001,
          0.005,
          0.05,
          0.1,
          0.5,
          1
         ],
         "y": [
          0.33975661270005664,
          0.3459589478206381,
          0.33792793524695397,
          0.33553717115036785,
          0.3522898548950599,
          0.3576840666355539,
          0.3683419637065981,
          0.3244050605667279
         ]
        },
        {
         "fill": "toself",
         "fillcolor": "darkred",
         "hoverinfo": "skip",
         "line": {
          "color": "darkred"
         },
         "marker": {
          "opacity": 0
         },
         "opacity": 0.2,
         "showlegend": false,
         "type": "scatter",
         "x": [
          0,
          0.0001,
          0.001,
          0.005,
          0.05,
          0.1,
          0.5,
          1,
          1,
          0.5,
          0.1,
          0.05,
          0.005,
          0.001,
          0.0001,
          0
         ],
         "y": [
          0.36869953939693273,
          0.3465707484127485,
          0.3505492223437569,
          0.3529368631404168,
          0.36664776065220667,
          0.40017718235380423,
          0.3809495907142116,
          0.3675236945324095,
          0.29812163608353015,
          0.3557343366989846,
          0.3538961114572596,
          0.3228744445233791,
          0.2997421960715647,
          0.3082412591226622,
          0.30852847446345527,
          0.3108136860031806
         ]
        },
        {
         "line": {
          "color": "green"
         },
         "name": "num=40,type=replica",
         "opacity": 0.8,
         "type": "scatter",
         "x": [
          0,
          0.0001,
          0.001,
          0.005,
          0.05,
          0.1,
          0.5,
          1
         ],
         "y": [
          0.8559502060166487,
          0.8590124654620978,
          0.8587139935192856,
          0.8560212318044094,
          0.8651783086908316,
          0.8831916352668665,
          0.7297357711693738,
          0.5017356062901164
         ]
        },
        {
         "fill": "toself",
         "fillcolor": "green",
         "hoverinfo": "skip",
         "line": {
          "color": "green"
         },
         "marker": {
          "opacity": 0
         },
         "opacity": 0.2,
         "showlegend": false,
         "type": "scatter",
         "x": [
          0,
          0.0001,
          0.001,
          0.005,
          0.05,
          0.1,
          0.5,
          1,
          1,
          0.5,
          0.1,
          0.05,
          0.005,
          0.001,
          0.0001,
          0
         ],
         "y": [
          0.8660805690727716,
          0.8808579371412882,
          0.8747663005006772,
          0.8781019209483641,
          0.8709313410802662,
          0.8922634679525053,
          0.7432438905699685,
          0.5375912220914545,
          0.4891387178580293,
          0.7277953458652539,
          0.8735458002942953,
          0.8535560208525794,
          0.8476397871010818,
          0.852506710318513,
          0.8513012683189354,
          0.8429940696553857
         ]
        },
        {
         "line": {
          "color": "darkgreen",
          "dash": "dash"
         },
         "name": "num=40,type=deconv",
         "opacity": 0.8,
         "type": "scatter",
         "x": [
          0,
          0.0001,
          0.001,
          0.005,
          0.05,
          0.1,
          0.5,
          1
         ],
         "y": [
          0.8624297616229046,
          0.8555389154822519,
          0.8584075123742057,
          0.8566979102526068,
          0.7863506241663769,
          0.6000316195720137,
          0.13999704230064222,
          0.13723070509589205
         ]
        },
        {
         "fill": "toself",
         "fillcolor": "darkgreen",
         "hoverinfo": "skip",
         "line": {
          "color": "darkgreen"
         },
         "marker": {
          "opacity": 0
         },
         "opacity": 0.2,
         "showlegend": false,
         "type": "scatter",
         "x": [
          0,
          0.0001,
          0.001,
          0.005,
          0.05,
          0.1,
          0.5,
          1,
          1,
          0.5,
          0.1,
          0.05,
          0.005,
          0.001,
          0.0001,
          0
         ],
         "y": [
          0.906624840694343,
          0.8574910034944528,
          0.8634731719161755,
          0.876758203926266,
          0.8007541562308486,
          0.6308553416807964,
          0.15296208586656243,
          0.13963507790432714,
          0.13173851938354791,
          0.12452138184009913,
          0.5984819278803486,
          0.7533853866032005,
          0.8425589501323101,
          0.8574349794712427,
          0.8553576695851274,
          0.8415985200959983
         ]
        },
        {
         "line": {
          "color": "blue",
          "dash": "dash"
         },
         "name": "num=20,type=deconv",
         "opacity": 0.8,
         "type": "scatter",
         "x": [
          0,
          0.0001,
          0.001,
          0.005,
          0.05,
          0.1,
          0.5,
          1
         ],
         "y": [
          0.49393110272981067,
          0.4639442660873241,
          0.4730210208223093,
          0.4774382017454397,
          0.402955412317099,
          0.35687542877177053,
          0.12441736483148091,
          0.12426326781432716
         ]
        },
        {
         "fill": "toself",
         "fillcolor": "blue",
         "hoverinfo": "skip",
         "line": {
          "color": "blue"
         },
         "marker": {
          "opacity": 0
         },
         "opacity": 0.2,
         "showlegend": false,
         "type": "scatter",
         "x": [
          0,
          0.0001,
          0.001,
          0.005,
          0.05,
          0.1,
          0.5,
          1,
          1,
          0.5,
          0.1,
          0.05,
          0.005,
          0.001,
          0.0001,
          0
         ],
         "y": [
          0.5186846610556277,
          0.49676657241102373,
          0.49820685399779563,
          0.49580372303423514,
          0.4213899672418664,
          0.3761284190066856,
          0.1348296023936297,
          0.1328982901624506,
          0.11263065191610323,
          0.11096782217822891,
          0.34934869724079876,
          0.3986803672749693,
          0.44490313696731365,
          0.4480956919485813,
          0.4612913813580656,
          0.4691775444039936
         ]
        },
        {
         "line": {
          "color": "darkblue"
         },
         "name": "num=20,type=replica",
         "opacity": 0.8,
         "type": "scatter",
         "x": [
          0,
          0.0001,
          0.001,
          0.005,
          0.05,
          0.1,
          0.5,
          1
         ],
         "y": [
          0.4749756498597613,
          0.47571757359291,
          0.4664339021894615,
          0.4732622144069656,
          0.5116452710977902,
          0.5551340286329816,
          0.4862081267551977,
          0.34319168271006945
         ]
        },
        {
         "fill": "toself",
         "fillcolor": "darkblue",
         "hoverinfo": "skip",
         "line": {
          "color": "darkblue"
         },
         "marker": {
          "opacity": 0
         },
         "opacity": 0.2,
         "showlegend": false,
         "type": "scatter",
         "x": [
          0,
          0.0001,
          0.001,
          0.005,
          0.05,
          0.1,
          0.5,
          1,
          1,
          0.5,
          0.1,
          0.05,
          0.005,
          0.001,
          0.0001,
          0
         ],
         "y": [
          0.4969908611824123,
          0.5120107377851604,
          0.5049590317159413,
          0.5160504971864848,
          0.5195126135550662,
          0.5700150829467114,
          0.4923117801459138,
          0.3472619751530294,
          0.34154062327706874,
          0.44129944478380034,
          0.5334880808578414,
          0.4978532968661093,
          0.44919306366696526,
          0.4386031500536837,
          0.4402739741084421,
          0.4529604385371103
         ]
        }
       ],
       "layout": {
        "template": {
         "data": {
          "bar": [
           {
            "error_x": {
             "color": "#2a3f5f"
            },
            "error_y": {
             "color": "#2a3f5f"
            },
            "marker": {
             "line": {
              "color": "#E5ECF6",
              "width": 0.5
             },
             "pattern": {
              "fillmode": "overlay",
              "size": 10,
              "solidity": 0.2
             }
            },
            "type": "bar"
           }
          ],
          "barpolar": [
           {
            "marker": {
             "line": {
              "color": "#E5ECF6",
              "width": 0.5
             },
             "pattern": {
              "fillmode": "overlay",
              "size": 10,
              "solidity": 0.2
             }
            },
            "type": "barpolar"
           }
          ],
          "carpet": [
           {
            "aaxis": {
             "endlinecolor": "#2a3f5f",
             "gridcolor": "white",
             "linecolor": "white",
             "minorgridcolor": "white",
             "startlinecolor": "#2a3f5f"
            },
            "baxis": {
             "endlinecolor": "#2a3f5f",
             "gridcolor": "white",
             "linecolor": "white",
             "minorgridcolor": "white",
             "startlinecolor": "#2a3f5f"
            },
            "type": "carpet"
           }
          ],
          "choropleth": [
           {
            "colorbar": {
             "outlinewidth": 0,
             "ticks": ""
            },
            "type": "choropleth"
           }
          ],
          "contour": [
           {
            "colorbar": {
             "outlinewidth": 0,
             "ticks": ""
            },
            "colorscale": [
             [
              0,
              "#0d0887"
             ],
             [
              0.1111111111111111,
              "#46039f"
             ],
             [
              0.2222222222222222,
              "#7201a8"
             ],
             [
              0.3333333333333333,
              "#9c179e"
             ],
             [
              0.4444444444444444,
              "#bd3786"
             ],
             [
              0.5555555555555556,
              "#d8576b"
             ],
             [
              0.6666666666666666,
              "#ed7953"
             ],
             [
              0.7777777777777778,
              "#fb9f3a"
             ],
             [
              0.8888888888888888,
              "#fdca26"
             ],
             [
              1,
              "#f0f921"
             ]
            ],
            "type": "contour"
           }
          ],
          "contourcarpet": [
           {
            "colorbar": {
             "outlinewidth": 0,
             "ticks": ""
            },
            "type": "contourcarpet"
           }
          ],
          "heatmap": [
           {
            "colorbar": {
             "outlinewidth": 0,
             "ticks": ""
            },
            "colorscale": [
             [
              0,
              "#0d0887"
             ],
             [
              0.1111111111111111,
              "#46039f"
             ],
             [
              0.2222222222222222,
              "#7201a8"
             ],
             [
              0.3333333333333333,
              "#9c179e"
             ],
             [
              0.4444444444444444,
              "#bd3786"
             ],
             [
              0.5555555555555556,
              "#d8576b"
             ],
             [
              0.6666666666666666,
              "#ed7953"
             ],
             [
              0.7777777777777778,
              "#fb9f3a"
             ],
             [
              0.8888888888888888,
              "#fdca26"
             ],
             [
              1,
              "#f0f921"
             ]
            ],
            "type": "heatmap"
           }
          ],
          "heatmapgl": [
           {
            "colorbar": {
             "outlinewidth": 0,
             "ticks": ""
            },
            "colorscale": [
             [
              0,
              "#0d0887"
             ],
             [
              0.1111111111111111,
              "#46039f"
             ],
             [
              0.2222222222222222,
              "#7201a8"
             ],
             [
              0.3333333333333333,
              "#9c179e"
             ],
             [
              0.4444444444444444,
              "#bd3786"
             ],
             [
              0.5555555555555556,
              "#d8576b"
             ],
             [
              0.6666666666666666,
              "#ed7953"
             ],
             [
              0.7777777777777778,
              "#fb9f3a"
             ],
             [
              0.8888888888888888,
              "#fdca26"
             ],
             [
              1,
              "#f0f921"
             ]
            ],
            "type": "heatmapgl"
           }
          ],
          "histogram": [
           {
            "marker": {
             "pattern": {
              "fillmode": "overlay",
              "size": 10,
              "solidity": 0.2
             }
            },
            "type": "histogram"
           }
          ],
          "histogram2d": [
           {
            "colorbar": {
             "outlinewidth": 0,
             "ticks": ""
            },
            "colorscale": [
             [
              0,
              "#0d0887"
             ],
             [
              0.1111111111111111,
              "#46039f"
             ],
             [
              0.2222222222222222,
              "#7201a8"
             ],
             [
              0.3333333333333333,
              "#9c179e"
             ],
             [
              0.4444444444444444,
              "#bd3786"
             ],
             [
              0.5555555555555556,
              "#d8576b"
             ],
             [
              0.6666666666666666,
              "#ed7953"
             ],
             [
              0.7777777777777778,
              "#fb9f3a"
             ],
             [
              0.8888888888888888,
              "#fdca26"
             ],
             [
              1,
              "#f0f921"
             ]
            ],
            "type": "histogram2d"
           }
          ],
          "histogram2dcontour": [
           {
            "colorbar": {
             "outlinewidth": 0,
             "ticks": ""
            },
            "colorscale": [
             [
              0,
              "#0d0887"
             ],
             [
              0.1111111111111111,
              "#46039f"
             ],
             [
              0.2222222222222222,
              "#7201a8"
             ],
             [
              0.3333333333333333,
              "#9c179e"
             ],
             [
              0.4444444444444444,
              "#bd3786"
             ],
             [
              0.5555555555555556,
              "#d8576b"
             ],
             [
              0.6666666666666666,
              "#ed7953"
             ],
             [
              0.7777777777777778,
              "#fb9f3a"
             ],
             [
              0.8888888888888888,
              "#fdca26"
             ],
             [
              1,
              "#f0f921"
             ]
            ],
            "type": "histogram2dcontour"
           }
          ],
          "mesh3d": [
           {
            "colorbar": {
             "outlinewidth": 0,
             "ticks": ""
            },
            "type": "mesh3d"
           }
          ],
          "parcoords": [
           {
            "line": {
             "colorbar": {
              "outlinewidth": 0,
              "ticks": ""
             }
            },
            "type": "parcoords"
           }
          ],
          "pie": [
           {
            "automargin": true,
            "type": "pie"
           }
          ],
          "scatter": [
           {
            "fillpattern": {
             "fillmode": "overlay",
             "size": 10,
             "solidity": 0.2
            },
            "type": "scatter"
           }
          ],
          "scatter3d": [
           {
            "line": {
             "colorbar": {
              "outlinewidth": 0,
              "ticks": ""
             }
            },
            "marker": {
             "colorbar": {
              "outlinewidth": 0,
              "ticks": ""
             }
            },
            "type": "scatter3d"
           }
          ],
          "scattercarpet": [
           {
            "marker": {
             "colorbar": {
              "outlinewidth": 0,
              "ticks": ""
             }
            },
            "type": "scattercarpet"
           }
          ],
          "scattergeo": [
           {
            "marker": {
             "colorbar": {
              "outlinewidth": 0,
              "ticks": ""
             }
            },
            "type": "scattergeo"
           }
          ],
          "scattergl": [
           {
            "marker": {
             "colorbar": {
              "outlinewidth": 0,
              "ticks": ""
             }
            },
            "type": "scattergl"
           }
          ],
          "scattermapbox": [
           {
            "marker": {
             "colorbar": {
              "outlinewidth": 0,
              "ticks": ""
             }
            },
            "type": "scattermapbox"
           }
          ],
          "scatterpolar": [
           {
            "marker": {
             "colorbar": {
              "outlinewidth": 0,
              "ticks": ""
             }
            },
            "type": "scatterpolar"
           }
          ],
          "scatterpolargl": [
           {
            "marker": {
             "colorbar": {
              "outlinewidth": 0,
              "ticks": ""
             }
            },
            "type": "scatterpolargl"
           }
          ],
          "scatterternary": [
           {
            "marker": {
             "colorbar": {
              "outlinewidth": 0,
              "ticks": ""
             }
            },
            "type": "scatterternary"
           }
          ],
          "surface": [
           {
            "colorbar": {
             "outlinewidth": 0,
             "ticks": ""
            },
            "colorscale": [
             [
              0,
              "#0d0887"
             ],
             [
              0.1111111111111111,
              "#46039f"
             ],
             [
              0.2222222222222222,
              "#7201a8"
             ],
             [
              0.3333333333333333,
              "#9c179e"
             ],
             [
              0.4444444444444444,
              "#bd3786"
             ],
             [
              0.5555555555555556,
              "#d8576b"
             ],
             [
              0.6666666666666666,
              "#ed7953"
             ],
             [
              0.7777777777777778,
              "#fb9f3a"
             ],
             [
              0.8888888888888888,
              "#fdca26"
             ],
             [
              1,
              "#f0f921"
             ]
            ],
            "type": "surface"
           }
          ],
          "table": [
           {
            "cells": {
             "fill": {
              "color": "#EBF0F8"
             },
             "line": {
              "color": "white"
             }
            },
            "header": {
             "fill": {
              "color": "#C8D4E3"
             },
             "line": {
              "color": "white"
             }
            },
            "type": "table"
           }
          ]
         },
         "layout": {
          "annotationdefaults": {
           "arrowcolor": "#2a3f5f",
           "arrowhead": 0,
           "arrowwidth": 1
          },
          "autotypenumbers": "strict",
          "coloraxis": {
           "colorbar": {
            "outlinewidth": 0,
            "ticks": ""
           }
          },
          "colorscale": {
           "diverging": [
            [
             0,
             "#8e0152"
            ],
            [
             0.1,
             "#c51b7d"
            ],
            [
             0.2,
             "#de77ae"
            ],
            [
             0.3,
             "#f1b6da"
            ],
            [
             0.4,
             "#fde0ef"
            ],
            [
             0.5,
             "#f7f7f7"
            ],
            [
             0.6,
             "#e6f5d0"
            ],
            [
             0.7,
             "#b8e186"
            ],
            [
             0.8,
             "#7fbc41"
            ],
            [
             0.9,
             "#4d9221"
            ],
            [
             1,
             "#276419"
            ]
           ],
           "sequential": [
            [
             0,
             "#0d0887"
            ],
            [
             0.1111111111111111,
             "#46039f"
            ],
            [
             0.2222222222222222,
             "#7201a8"
            ],
            [
             0.3333333333333333,
             "#9c179e"
            ],
            [
             0.4444444444444444,
             "#bd3786"
            ],
            [
             0.5555555555555556,
             "#d8576b"
            ],
            [
             0.6666666666666666,
             "#ed7953"
            ],
            [
             0.7777777777777778,
             "#fb9f3a"
            ],
            [
             0.8888888888888888,
             "#fdca26"
            ],
            [
             1,
             "#f0f921"
            ]
           ],
           "sequentialminus": [
            [
             0,
             "#0d0887"
            ],
            [
             0.1111111111111111,
             "#46039f"
            ],
            [
             0.2222222222222222,
             "#7201a8"
            ],
            [
             0.3333333333333333,
             "#9c179e"
            ],
            [
             0.4444444444444444,
             "#bd3786"
            ],
            [
             0.5555555555555556,
             "#d8576b"
            ],
            [
             0.6666666666666666,
             "#ed7953"
            ],
            [
             0.7777777777777778,
             "#fb9f3a"
            ],
            [
             0.8888888888888888,
             "#fdca26"
            ],
            [
             1,
             "#f0f921"
            ]
           ]
          },
          "colorway": [
           "#636efa",
           "#EF553B",
           "#00cc96",
           "#ab63fa",
           "#FFA15A",
           "#19d3f3",
           "#FF6692",
           "#B6E880",
           "#FF97FF",
           "#FECB52"
          ],
          "font": {
           "color": "#2a3f5f"
          },
          "geo": {
           "bgcolor": "white",
           "lakecolor": "white",
           "landcolor": "#E5ECF6",
           "showlakes": true,
           "showland": true,
           "subunitcolor": "white"
          },
          "hoverlabel": {
           "align": "left"
          },
          "hovermode": "closest",
          "mapbox": {
           "style": "light"
          },
          "paper_bgcolor": "white",
          "plot_bgcolor": "#E5ECF6",
          "polar": {
           "angularaxis": {
            "gridcolor": "white",
            "linecolor": "white",
            "ticks": ""
           },
           "bgcolor": "#E5ECF6",
           "radialaxis": {
            "gridcolor": "white",
            "linecolor": "white",
            "ticks": ""
           }
          },
          "scene": {
           "xaxis": {
            "backgroundcolor": "#E5ECF6",
            "gridcolor": "white",
            "gridwidth": 2,
            "linecolor": "white",
            "showbackground": true,
            "ticks": "",
            "zerolinecolor": "white"
           },
           "yaxis": {
            "backgroundcolor": "#E5ECF6",
            "gridcolor": "white",
            "gridwidth": 2,
            "linecolor": "white",
            "showbackground": true,
            "ticks": "",
            "zerolinecolor": "white"
           },
           "zaxis": {
            "backgroundcolor": "#E5ECF6",
            "gridcolor": "white",
            "gridwidth": 2,
            "linecolor": "white",
            "showbackground": true,
            "ticks": "",
            "zerolinecolor": "white"
           }
          },
          "shapedefaults": {
           "line": {
            "color": "#2a3f5f"
           }
          },
          "ternary": {
           "aaxis": {
            "gridcolor": "white",
            "linecolor": "white",
            "ticks": ""
           },
           "baxis": {
            "gridcolor": "white",
            "linecolor": "white",
            "ticks": ""
           },
           "bgcolor": "#E5ECF6",
           "caxis": {
            "gridcolor": "white",
            "linecolor": "white",
            "ticks": ""
           }
          },
          "title": {
           "x": 0.05
          },
          "xaxis": {
           "automargin": true,
           "gridcolor": "white",
           "linecolor": "white",
           "ticks": "",
           "title": {
            "standoff": 15
           },
           "zerolinecolor": "white",
           "zerolinewidth": 2
          },
          "yaxis": {
           "automargin": true,
           "gridcolor": "white",
           "linecolor": "white",
           "ticks": "",
           "title": {
            "standoff": 15
           },
           "zerolinecolor": "white",
           "zerolinewidth": 2
          }
         }
        },
        "xaxis": {
         "title": {
          "text": "Train Sigma"
         }
        },
        "yaxis": {
         "title": {
          "text": "Score"
         }
        }
       }
      },
      "text/html": [
       "<div>                            <div id=\"b4a370e6-4cfd-4517-834f-284169915733\" class=\"plotly-graph-div\" style=\"height:525px; width:100%;\"></div>            <script type=\"text/javascript\">                require([\"plotly\"], function(Plotly) {                    window.PLOTLYENV=window.PLOTLYENV || {};                                    if (document.getElementById(\"b4a370e6-4cfd-4517-834f-284169915733\")) {                    Plotly.newPlot(                        \"b4a370e6-4cfd-4517-834f-284169915733\",                        [{\"line\":{\"color\":\"red\",\"dash\":\"dash\"},\"name\":\"num=10,type=deconv\",\"opacity\":0.8,\"x\":[0.0,0.0001,0.001,0.005,0.05,0.1,0.5,1.0],\"y\":[0.34603476923423987,0.32402419363277984,0.3186466479857607,0.3124907068457597,0.33224459930080275,0.3102266586895341,0.17344964887954656,0.139453341336109],\"type\":\"scatter\"},{\"fill\":\"toself\",\"fillcolor\":\"red\",\"hoverinfo\":\"skip\",\"line\":{\"color\":\"red\"},\"marker\":{\"opacity\":0},\"opacity\":0.2,\"showlegend\":false,\"x\":[0.0,0.0001,0.001,0.005,0.05,0.1,0.5,1.0,1.0,0.5,0.1,0.05,0.005,0.001,0.0001,0.0],\"y\":[0.3664905262549663,0.3810136558398898,0.3790192477241935,0.3594306157066005,0.3322837529510847,0.3409864171811919,0.17856326570295813,0.13983559588288302,0.1260741699024078,0.168336032056135,0.30140678447797276,0.3296408291421008,0.3115986992749989,0.3152846358862251,0.305788592398311,0.32557901221351343],\"type\":\"scatter\"},{\"line\":{\"color\":\"darkred\"},\"name\":\"num=10,type=replica\",\"opacity\":0.8,\"x\":[0.0,0.0001,0.001,0.005,0.05,0.1,0.5,1.0],\"y\":[0.33975661270005664,0.3459589478206381,0.33792793524695397,0.33553717115036785,0.3522898548950599,0.3576840666355539,0.3683419637065981,0.3244050605667279],\"type\":\"scatter\"},{\"fill\":\"toself\",\"fillcolor\":\"darkred\",\"hoverinfo\":\"skip\",\"line\":{\"color\":\"darkred\"},\"marker\":{\"opacity\":0},\"opacity\":0.2,\"showlegend\":false,\"x\":[0.0,0.0001,0.001,0.005,0.05,0.1,0.5,1.0,1.0,0.5,0.1,0.05,0.005,0.001,0.0001,0.0],\"y\":[0.36869953939693273,0.3465707484127485,0.3505492223437569,0.3529368631404168,0.36664776065220667,0.40017718235380423,0.3809495907142116,0.3675236945324095,0.29812163608353015,0.3557343366989846,0.3538961114572596,0.3228744445233791,0.2997421960715647,0.3082412591226622,0.30852847446345527,0.3108136860031806],\"type\":\"scatter\"},{\"line\":{\"color\":\"green\"},\"name\":\"num=40,type=replica\",\"opacity\":0.8,\"x\":[0.0,0.0001,0.001,0.005,0.05,0.1,0.5,1.0],\"y\":[0.8559502060166487,0.8590124654620978,0.8587139935192856,0.8560212318044094,0.8651783086908316,0.8831916352668665,0.7297357711693738,0.5017356062901164],\"type\":\"scatter\"},{\"fill\":\"toself\",\"fillcolor\":\"green\",\"hoverinfo\":\"skip\",\"line\":{\"color\":\"green\"},\"marker\":{\"opacity\":0},\"opacity\":0.2,\"showlegend\":false,\"x\":[0.0,0.0001,0.001,0.005,0.05,0.1,0.5,1.0,1.0,0.5,0.1,0.05,0.005,0.001,0.0001,0.0],\"y\":[0.8660805690727716,0.8808579371412882,0.8747663005006772,0.8781019209483641,0.8709313410802662,0.8922634679525053,0.7432438905699685,0.5375912220914545,0.4891387178580293,0.7277953458652539,0.8735458002942953,0.8535560208525794,0.8476397871010818,0.852506710318513,0.8513012683189354,0.8429940696553857],\"type\":\"scatter\"},{\"line\":{\"color\":\"darkgreen\",\"dash\":\"dash\"},\"name\":\"num=40,type=deconv\",\"opacity\":0.8,\"x\":[0.0,0.0001,0.001,0.005,0.05,0.1,0.5,1.0],\"y\":[0.8624297616229046,0.8555389154822519,0.8584075123742057,0.8566979102526068,0.7863506241663769,0.6000316195720137,0.13999704230064222,0.13723070509589205],\"type\":\"scatter\"},{\"fill\":\"toself\",\"fillcolor\":\"darkgreen\",\"hoverinfo\":\"skip\",\"line\":{\"color\":\"darkgreen\"},\"marker\":{\"opacity\":0},\"opacity\":0.2,\"showlegend\":false,\"x\":[0.0,0.0001,0.001,0.005,0.05,0.1,0.5,1.0,1.0,0.5,0.1,0.05,0.005,0.001,0.0001,0.0],\"y\":[0.906624840694343,0.8574910034944528,0.8634731719161755,0.876758203926266,0.8007541562308486,0.6308553416807964,0.15296208586656243,0.13963507790432714,0.13173851938354791,0.12452138184009913,0.5984819278803486,0.7533853866032005,0.8425589501323101,0.8574349794712427,0.8553576695851274,0.8415985200959983],\"type\":\"scatter\"},{\"line\":{\"color\":\"blue\",\"dash\":\"dash\"},\"name\":\"num=20,type=deconv\",\"opacity\":0.8,\"x\":[0.0,0.0001,0.001,0.005,0.05,0.1,0.5,1.0],\"y\":[0.49393110272981067,0.4639442660873241,0.4730210208223093,0.4774382017454397,0.402955412317099,0.35687542877177053,0.12441736483148091,0.12426326781432716],\"type\":\"scatter\"},{\"fill\":\"toself\",\"fillcolor\":\"blue\",\"hoverinfo\":\"skip\",\"line\":{\"color\":\"blue\"},\"marker\":{\"opacity\":0},\"opacity\":0.2,\"showlegend\":false,\"x\":[0.0,0.0001,0.001,0.005,0.05,0.1,0.5,1.0,1.0,0.5,0.1,0.05,0.005,0.001,0.0001,0.0],\"y\":[0.5186846610556277,0.49676657241102373,0.49820685399779563,0.49580372303423514,0.4213899672418664,0.3761284190066856,0.1348296023936297,0.1328982901624506,0.11263065191610323,0.11096782217822891,0.34934869724079876,0.3986803672749693,0.44490313696731365,0.4480956919485813,0.4612913813580656,0.4691775444039936],\"type\":\"scatter\"},{\"line\":{\"color\":\"darkblue\"},\"name\":\"num=20,type=replica\",\"opacity\":0.8,\"x\":[0.0,0.0001,0.001,0.005,0.05,0.1,0.5,1.0],\"y\":[0.4749756498597613,0.47571757359291,0.4664339021894615,0.4732622144069656,0.5116452710977902,0.5551340286329816,0.4862081267551977,0.34319168271006945],\"type\":\"scatter\"},{\"fill\":\"toself\",\"fillcolor\":\"darkblue\",\"hoverinfo\":\"skip\",\"line\":{\"color\":\"darkblue\"},\"marker\":{\"opacity\":0},\"opacity\":0.2,\"showlegend\":false,\"x\":[0.0,0.0001,0.001,0.005,0.05,0.1,0.5,1.0,1.0,0.5,0.1,0.05,0.005,0.001,0.0001,0.0],\"y\":[0.4969908611824123,0.5120107377851604,0.5049590317159413,0.5160504971864848,0.5195126135550662,0.5700150829467114,0.4923117801459138,0.3472619751530294,0.34154062327706874,0.44129944478380034,0.5334880808578414,0.4978532968661093,0.44919306366696526,0.4386031500536837,0.4402739741084421,0.4529604385371103],\"type\":\"scatter\"}],                        {\"template\":{\"data\":{\"histogram2dcontour\":[{\"type\":\"histogram2dcontour\",\"colorbar\":{\"outlinewidth\":0,\"ticks\":\"\"},\"colorscale\":[[0.0,\"#0d0887\"],[0.1111111111111111,\"#46039f\"],[0.2222222222222222,\"#7201a8\"],[0.3333333333333333,\"#9c179e\"],[0.4444444444444444,\"#bd3786\"],[0.5555555555555556,\"#d8576b\"],[0.6666666666666666,\"#ed7953\"],[0.7777777777777778,\"#fb9f3a\"],[0.8888888888888888,\"#fdca26\"],[1.0,\"#f0f921\"]]}],\"choropleth\":[{\"type\":\"choropleth\",\"colorbar\":{\"outlinewidth\":0,\"ticks\":\"\"}}],\"histogram2d\":[{\"type\":\"histogram2d\",\"colorbar\":{\"outlinewidth\":0,\"ticks\":\"\"},\"colorscale\":[[0.0,\"#0d0887\"],[0.1111111111111111,\"#46039f\"],[0.2222222222222222,\"#7201a8\"],[0.3333333333333333,\"#9c179e\"],[0.4444444444444444,\"#bd3786\"],[0.5555555555555556,\"#d8576b\"],[0.6666666666666666,\"#ed7953\"],[0.7777777777777778,\"#fb9f3a\"],[0.8888888888888888,\"#fdca26\"],[1.0,\"#f0f921\"]]}],\"heatmap\":[{\"type\":\"heatmap\",\"colorbar\":{\"outlinewidth\":0,\"ticks\":\"\"},\"colorscale\":[[0.0,\"#0d0887\"],[0.1111111111111111,\"#46039f\"],[0.2222222222222222,\"#7201a8\"],[0.3333333333333333,\"#9c179e\"],[0.4444444444444444,\"#bd3786\"],[0.5555555555555556,\"#d8576b\"],[0.6666666666666666,\"#ed7953\"],[0.7777777777777778,\"#fb9f3a\"],[0.8888888888888888,\"#fdca26\"],[1.0,\"#f0f921\"]]}],\"heatmapgl\":[{\"type\":\"heatmapgl\",\"colorbar\":{\"outlinewidth\":0,\"ticks\":\"\"},\"colorscale\":[[0.0,\"#0d0887\"],[0.1111111111111111,\"#46039f\"],[0.2222222222222222,\"#7201a8\"],[0.3333333333333333,\"#9c179e\"],[0.4444444444444444,\"#bd3786\"],[0.5555555555555556,\"#d8576b\"],[0.6666666666666666,\"#ed7953\"],[0.7777777777777778,\"#fb9f3a\"],[0.8888888888888888,\"#fdca26\"],[1.0,\"#f0f921\"]]}],\"contourcarpet\":[{\"type\":\"contourcarpet\",\"colorbar\":{\"outlinewidth\":0,\"ticks\":\"\"}}],\"contour\":[{\"type\":\"contour\",\"colorbar\":{\"outlinewidth\":0,\"ticks\":\"\"},\"colorscale\":[[0.0,\"#0d0887\"],[0.1111111111111111,\"#46039f\"],[0.2222222222222222,\"#7201a8\"],[0.3333333333333333,\"#9c179e\"],[0.4444444444444444,\"#bd3786\"],[0.5555555555555556,\"#d8576b\"],[0.6666666666666666,\"#ed7953\"],[0.7777777777777778,\"#fb9f3a\"],[0.8888888888888888,\"#fdca26\"],[1.0,\"#f0f921\"]]}],\"surface\":[{\"type\":\"surface\",\"colorbar\":{\"outlinewidth\":0,\"ticks\":\"\"},\"colorscale\":[[0.0,\"#0d0887\"],[0.1111111111111111,\"#46039f\"],[0.2222222222222222,\"#7201a8\"],[0.3333333333333333,\"#9c179e\"],[0.4444444444444444,\"#bd3786\"],[0.5555555555555556,\"#d8576b\"],[0.6666666666666666,\"#ed7953\"],[0.7777777777777778,\"#fb9f3a\"],[0.8888888888888888,\"#fdca26\"],[1.0,\"#f0f921\"]]}],\"mesh3d\":[{\"type\":\"mesh3d\",\"colorbar\":{\"outlinewidth\":0,\"ticks\":\"\"}}],\"scatter\":[{\"fillpattern\":{\"fillmode\":\"overlay\",\"size\":10,\"solidity\":0.2},\"type\":\"scatter\"}],\"parcoords\":[{\"type\":\"parcoords\",\"line\":{\"colorbar\":{\"outlinewidth\":0,\"ticks\":\"\"}}}],\"scatterpolargl\":[{\"type\":\"scatterpolargl\",\"marker\":{\"colorbar\":{\"outlinewidth\":0,\"ticks\":\"\"}}}],\"bar\":[{\"error_x\":{\"color\":\"#2a3f5f\"},\"error_y\":{\"color\":\"#2a3f5f\"},\"marker\":{\"line\":{\"color\":\"#E5ECF6\",\"width\":0.5},\"pattern\":{\"fillmode\":\"overlay\",\"size\":10,\"solidity\":0.2}},\"type\":\"bar\"}],\"scattergeo\":[{\"type\":\"scattergeo\",\"marker\":{\"colorbar\":{\"outlinewidth\":0,\"ticks\":\"\"}}}],\"scatterpolar\":[{\"type\":\"scatterpolar\",\"marker\":{\"colorbar\":{\"outlinewidth\":0,\"ticks\":\"\"}}}],\"histogram\":[{\"marker\":{\"pattern\":{\"fillmode\":\"overlay\",\"size\":10,\"solidity\":0.2}},\"type\":\"histogram\"}],\"scattergl\":[{\"type\":\"scattergl\",\"marker\":{\"colorbar\":{\"outlinewidth\":0,\"ticks\":\"\"}}}],\"scatter3d\":[{\"type\":\"scatter3d\",\"line\":{\"colorbar\":{\"outlinewidth\":0,\"ticks\":\"\"}},\"marker\":{\"colorbar\":{\"outlinewidth\":0,\"ticks\":\"\"}}}],\"scattermapbox\":[{\"type\":\"scattermapbox\",\"marker\":{\"colorbar\":{\"outlinewidth\":0,\"ticks\":\"\"}}}],\"scatterternary\":[{\"type\":\"scatterternary\",\"marker\":{\"colorbar\":{\"outlinewidth\":0,\"ticks\":\"\"}}}],\"scattercarpet\":[{\"type\":\"scattercarpet\",\"marker\":{\"colorbar\":{\"outlinewidth\":0,\"ticks\":\"\"}}}],\"carpet\":[{\"aaxis\":{\"endlinecolor\":\"#2a3f5f\",\"gridcolor\":\"white\",\"linecolor\":\"white\",\"minorgridcolor\":\"white\",\"startlinecolor\":\"#2a3f5f\"},\"baxis\":{\"endlinecolor\":\"#2a3f5f\",\"gridcolor\":\"white\",\"linecolor\":\"white\",\"minorgridcolor\":\"white\",\"startlinecolor\":\"#2a3f5f\"},\"type\":\"carpet\"}],\"table\":[{\"cells\":{\"fill\":{\"color\":\"#EBF0F8\"},\"line\":{\"color\":\"white\"}},\"header\":{\"fill\":{\"color\":\"#C8D4E3\"},\"line\":{\"color\":\"white\"}},\"type\":\"table\"}],\"barpolar\":[{\"marker\":{\"line\":{\"color\":\"#E5ECF6\",\"width\":0.5},\"pattern\":{\"fillmode\":\"overlay\",\"size\":10,\"solidity\":0.2}},\"type\":\"barpolar\"}],\"pie\":[{\"automargin\":true,\"type\":\"pie\"}]},\"layout\":{\"autotypenumbers\":\"strict\",\"colorway\":[\"#636efa\",\"#EF553B\",\"#00cc96\",\"#ab63fa\",\"#FFA15A\",\"#19d3f3\",\"#FF6692\",\"#B6E880\",\"#FF97FF\",\"#FECB52\"],\"font\":{\"color\":\"#2a3f5f\"},\"hovermode\":\"closest\",\"hoverlabel\":{\"align\":\"left\"},\"paper_bgcolor\":\"white\",\"plot_bgcolor\":\"#E5ECF6\",\"polar\":{\"bgcolor\":\"#E5ECF6\",\"angularaxis\":{\"gridcolor\":\"white\",\"linecolor\":\"white\",\"ticks\":\"\"},\"radialaxis\":{\"gridcolor\":\"white\",\"linecolor\":\"white\",\"ticks\":\"\"}},\"ternary\":{\"bgcolor\":\"#E5ECF6\",\"aaxis\":{\"gridcolor\":\"white\",\"linecolor\":\"white\",\"ticks\":\"\"},\"baxis\":{\"gridcolor\":\"white\",\"linecolor\":\"white\",\"ticks\":\"\"},\"caxis\":{\"gridcolor\":\"white\",\"linecolor\":\"white\",\"ticks\":\"\"}},\"coloraxis\":{\"colorbar\":{\"outlinewidth\":0,\"ticks\":\"\"}},\"colorscale\":{\"sequential\":[[0.0,\"#0d0887\"],[0.1111111111111111,\"#46039f\"],[0.2222222222222222,\"#7201a8\"],[0.3333333333333333,\"#9c179e\"],[0.4444444444444444,\"#bd3786\"],[0.5555555555555556,\"#d8576b\"],[0.6666666666666666,\"#ed7953\"],[0.7777777777777778,\"#fb9f3a\"],[0.8888888888888888,\"#fdca26\"],[1.0,\"#f0f921\"]],\"sequentialminus\":[[0.0,\"#0d0887\"],[0.1111111111111111,\"#46039f\"],[0.2222222222222222,\"#7201a8\"],[0.3333333333333333,\"#9c179e\"],[0.4444444444444444,\"#bd3786\"],[0.5555555555555556,\"#d8576b\"],[0.6666666666666666,\"#ed7953\"],[0.7777777777777778,\"#fb9f3a\"],[0.8888888888888888,\"#fdca26\"],[1.0,\"#f0f921\"]],\"diverging\":[[0,\"#8e0152\"],[0.1,\"#c51b7d\"],[0.2,\"#de77ae\"],[0.3,\"#f1b6da\"],[0.4,\"#fde0ef\"],[0.5,\"#f7f7f7\"],[0.6,\"#e6f5d0\"],[0.7,\"#b8e186\"],[0.8,\"#7fbc41\"],[0.9,\"#4d9221\"],[1,\"#276419\"]]},\"xaxis\":{\"gridcolor\":\"white\",\"linecolor\":\"white\",\"ticks\":\"\",\"title\":{\"standoff\":15},\"zerolinecolor\":\"white\",\"automargin\":true,\"zerolinewidth\":2},\"yaxis\":{\"gridcolor\":\"white\",\"linecolor\":\"white\",\"ticks\":\"\",\"title\":{\"standoff\":15},\"zerolinecolor\":\"white\",\"automargin\":true,\"zerolinewidth\":2},\"scene\":{\"xaxis\":{\"backgroundcolor\":\"#E5ECF6\",\"gridcolor\":\"white\",\"linecolor\":\"white\",\"showbackground\":true,\"ticks\":\"\",\"zerolinecolor\":\"white\",\"gridwidth\":2},\"yaxis\":{\"backgroundcolor\":\"#E5ECF6\",\"gridcolor\":\"white\",\"linecolor\":\"white\",\"showbackground\":true,\"ticks\":\"\",\"zerolinecolor\":\"white\",\"gridwidth\":2},\"zaxis\":{\"backgroundcolor\":\"#E5ECF6\",\"gridcolor\":\"white\",\"linecolor\":\"white\",\"showbackground\":true,\"ticks\":\"\",\"zerolinecolor\":\"white\",\"gridwidth\":2}},\"shapedefaults\":{\"line\":{\"color\":\"#2a3f5f\"}},\"annotationdefaults\":{\"arrowcolor\":\"#2a3f5f\",\"arrowhead\":0,\"arrowwidth\":1},\"geo\":{\"bgcolor\":\"white\",\"landcolor\":\"#E5ECF6\",\"subunitcolor\":\"white\",\"showland\":true,\"showlakes\":true,\"lakecolor\":\"white\"},\"title\":{\"x\":0.05},\"mapbox\":{\"style\":\"light\"}}},\"xaxis\":{\"title\":{\"text\":\"Train Sigma\"}},\"yaxis\":{\"title\":{\"text\":\"Score\"}}},                        {\"responsive\": true}                    ).then(function(){\n",
       "                            \n",
       "var gd = document.getElementById('b4a370e6-4cfd-4517-834f-284169915733');\n",
       "var x = new MutationObserver(function (mutations, observer) {{\n",
       "        var display = window.getComputedStyle(gd).display;\n",
       "        if (!display || display === 'none') {{\n",
       "            console.log([gd, 'removed!']);\n",
       "            Plotly.purge(gd);\n",
       "            observer.disconnect();\n",
       "        }}\n",
       "}});\n",
       "\n",
       "// Listen for the removal of the full notebook cells\n",
       "var notebookContainer = gd.closest('#notebook-container');\n",
       "if (notebookContainer) {{\n",
       "    x.observe(notebookContainer, {childList: true});\n",
       "}}\n",
       "\n",
       "// Listen for the clearing of the current output cell\n",
       "var outputEl = gd.closest('.output');\n",
       "if (outputEl) {{\n",
       "    x.observe(outputEl, {childList: true});\n",
       "}}\n",
       "\n",
       "                        })                };                });            </script>        </div>"
      ]
     },
     "metadata": {},
     "output_type": "display_data"
    }
   ],
   "source": [
    "import plotly.graph_objects as go\n",
    "\n",
    "def select(data, group):\n",
    "    group_keys, group_values = zip(*group._asdict().items())\n",
    "    group_keys, group_values = list(group_keys), list(group_values)\n",
    "    group_elems = (data[group_keys] == group_values).all(1)\n",
    "    group_data = data[group_elems]\n",
    "    return group_data\n",
    "\n",
    "def data_groups(data, l1_groups, l2_groups, items):\n",
    "    unique = data[l1_groups].drop_duplicates()\n",
    "    for group, item in zip(unique.itertuples(index=False),items):\n",
    "        sub_data = select(data, group)\n",
    "        if l2_groups:\n",
    "            sub_unique = sub_data[l2_groups].drop_duplicates()\n",
    "            for sub_group, sub_item in zip(sub_unique.itertuples(index=False), item):\n",
    "                series_data = select(sub_data, sub_group)\n",
    "                series_group = group._asdict()\n",
    "                series_group.update(sub_group._asdict())\n",
    "                yield sub_item, series_group, series_data\n",
    "        else:\n",
    "            series_group = group._asdict()\n",
    "            yield item, series_group, sub_data\n",
    "\n",
    "def scatter(data, x_label, y_label, l1_groups=[], l2_groups=[], is_dashed=lambda x: False):\n",
    "    data = data.sort_values(x_label)\n",
    "    for color, series_group, series_data in data_groups(\n",
    "                data, l1_groups, l2_groups, colors\n",
    "            ):\n",
    "        xs = list(series_data[x_label].drop_duplicates())\n",
    "        ys = []\n",
    "        ys_upper = []\n",
    "        ys_lower = []\n",
    "        for v in xs:\n",
    "            x_data = series_data[series_data[x_label] == v][y_label]\n",
    "            ys.append(x_data.median())\n",
    "            ys_lower.append(x_data.min())\n",
    "            ys_upper.append(x_data.max())\n",
    "        dashed = is_dashed(series_group)\n",
    "        label = ','.join([f'{k}={v}' for (k,v) in series_group.items()])\n",
    "        yield go.Scatter(x=xs, y=ys, name=label, \n",
    "                 line_color=color, opacity=0.8,\n",
    "                 line=dict(dash=\"dash\" if dashed else None))\n",
    "        yield go.Scatter(\n",
    "            x=xs+xs[::-1], # x, then x reversed\n",
    "            y=ys_upper+ys_lower[::-1], # upper, then lower reversed\n",
    "            fill='toself',\n",
    "            fillcolor=color,\n",
    "            marker=dict(opacity=0),\n",
    "            line=dict(color=color),\n",
    "            hoverinfo=\"skip\",\n",
    "            showlegend=False,\n",
    "            opacity=0.2\n",
    "        )\n",
    "\n",
    "fig = go.Figure(list(scatter(data, 'sigma', 'max_score',\n",
    "                             l1_groups=['num'], l2_groups=['type'],\n",
    "                             is_dashed=lambda x: x['type'] == 'deconv')))\n",
    "fig.update_layout(xaxis_title=\"Train Sigma\",yaxis_title=\"Score\")\n",
    "fig"
   ]
  },
  {
   "cell_type": "code",
   "execution_count": 9,
   "id": "1fb0d549",
   "metadata": {},
   "outputs": [
    {
     "data": {
      "application/vnd.plotly.v1+json": {
       "config": {
        "plotlyServerURL": "https://plot.ly"
       },
       "data": [
        {
         "line": {
          "color": "red"
         },
         "name": "sigma=0.0,type=replica",
         "opacity": 0.8,
         "type": "scatter",
         "x": [
          10,
          20,
          40
         ],
         "y": [
          0.33975661270005664,
          0.4749756498597613,
          0.8559502060166487
         ]
        },
        {
         "fill": "toself",
         "fillcolor": "red",
         "hoverinfo": "skip",
         "line": {
          "color": "red"
         },
         "marker": {
          "opacity": 0
         },
         "opacity": 0.2,
         "showlegend": false,
         "type": "scatter",
         "x": [
          10,
          20,
          40,
          40,
          20,
          10
         ],
         "y": [
          0.36869953939693273,
          0.4969908611824123,
          0.8660805690727716,
          0.8429940696553857,
          0.4529604385371103,
          0.3108136860031806
         ]
        },
        {
         "line": {
          "color": "green"
         },
         "name": "sigma=0.1,type=replica",
         "opacity": 0.8,
         "type": "scatter",
         "x": [
          10,
          20,
          40
         ],
         "y": [
          0.3576840666355539,
          0.5551340286329816,
          0.8831916352668665
         ]
        },
        {
         "fill": "toself",
         "fillcolor": "green",
         "hoverinfo": "skip",
         "line": {
          "color": "green"
         },
         "marker": {
          "opacity": 0
         },
         "opacity": 0.2,
         "showlegend": false,
         "type": "scatter",
         "x": [
          10,
          20,
          40,
          40,
          20,
          10
         ],
         "y": [
          0.40017718235380423,
          0.5700150829467114,
          0.8922634679525053,
          0.8735458002942953,
          0.5334880808578414,
          0.3538961114572596
         ]
        },
        {
         "line": {
          "color": "blue"
         },
         "name": "sigma=0.05,type=replica",
         "opacity": 0.8,
         "type": "scatter",
         "x": [
          10,
          20,
          40
         ],
         "y": [
          0.3522898548950599,
          0.5116452710977902,
          0.8651783086908316
         ]
        },
        {
         "fill": "toself",
         "fillcolor": "blue",
         "hoverinfo": "skip",
         "line": {
          "color": "blue"
         },
         "marker": {
          "opacity": 0
         },
         "opacity": 0.2,
         "showlegend": false,
         "type": "scatter",
         "x": [
          10,
          20,
          40,
          40,
          20,
          10
         ],
         "y": [
          0.36664776065220667,
          0.5195126135550662,
          0.8709313410802662,
          0.8535560208525794,
          0.4978532968661093,
          0.3228744445233791
         ]
        },
        {
         "line": {
          "color": "orange"
         },
         "name": "sigma=1.0,type=replica",
         "opacity": 0.8,
         "type": "scatter",
         "x": [
          10,
          20,
          40
         ],
         "y": [
          0.3244050605667279,
          0.34319168271006945,
          0.5017356062901164
         ]
        },
        {
         "fill": "toself",
         "fillcolor": "orange",
         "hoverinfo": "skip",
         "line": {
          "color": "orange"
         },
         "marker": {
          "opacity": 0
         },
         "opacity": 0.2,
         "showlegend": false,
         "type": "scatter",
         "x": [
          10,
          20,
          40,
          40,
          20,
          10
         ],
         "y": [
          0.3675236945324095,
          0.3472619751530294,
          0.5375912220914545,
          0.4891387178580293,
          0.34154062327706874,
          0.29812163608353015
         ]
        }
       ],
       "layout": {
        "template": {
         "data": {
          "bar": [
           {
            "error_x": {
             "color": "#2a3f5f"
            },
            "error_y": {
             "color": "#2a3f5f"
            },
            "marker": {
             "line": {
              "color": "#E5ECF6",
              "width": 0.5
             },
             "pattern": {
              "fillmode": "overlay",
              "size": 10,
              "solidity": 0.2
             }
            },
            "type": "bar"
           }
          ],
          "barpolar": [
           {
            "marker": {
             "line": {
              "color": "#E5ECF6",
              "width": 0.5
             },
             "pattern": {
              "fillmode": "overlay",
              "size": 10,
              "solidity": 0.2
             }
            },
            "type": "barpolar"
           }
          ],
          "carpet": [
           {
            "aaxis": {
             "endlinecolor": "#2a3f5f",
             "gridcolor": "white",
             "linecolor": "white",
             "minorgridcolor": "white",
             "startlinecolor": "#2a3f5f"
            },
            "baxis": {
             "endlinecolor": "#2a3f5f",
             "gridcolor": "white",
             "linecolor": "white",
             "minorgridcolor": "white",
             "startlinecolor": "#2a3f5f"
            },
            "type": "carpet"
           }
          ],
          "choropleth": [
           {
            "colorbar": {
             "outlinewidth": 0,
             "ticks": ""
            },
            "type": "choropleth"
           }
          ],
          "contour": [
           {
            "colorbar": {
             "outlinewidth": 0,
             "ticks": ""
            },
            "colorscale": [
             [
              0,
              "#0d0887"
             ],
             [
              0.1111111111111111,
              "#46039f"
             ],
             [
              0.2222222222222222,
              "#7201a8"
             ],
             [
              0.3333333333333333,
              "#9c179e"
             ],
             [
              0.4444444444444444,
              "#bd3786"
             ],
             [
              0.5555555555555556,
              "#d8576b"
             ],
             [
              0.6666666666666666,
              "#ed7953"
             ],
             [
              0.7777777777777778,
              "#fb9f3a"
             ],
             [
              0.8888888888888888,
              "#fdca26"
             ],
             [
              1,
              "#f0f921"
             ]
            ],
            "type": "contour"
           }
          ],
          "contourcarpet": [
           {
            "colorbar": {
             "outlinewidth": 0,
             "ticks": ""
            },
            "type": "contourcarpet"
           }
          ],
          "heatmap": [
           {
            "colorbar": {
             "outlinewidth": 0,
             "ticks": ""
            },
            "colorscale": [
             [
              0,
              "#0d0887"
             ],
             [
              0.1111111111111111,
              "#46039f"
             ],
             [
              0.2222222222222222,
              "#7201a8"
             ],
             [
              0.3333333333333333,
              "#9c179e"
             ],
             [
              0.4444444444444444,
              "#bd3786"
             ],
             [
              0.5555555555555556,
              "#d8576b"
             ],
             [
              0.6666666666666666,
              "#ed7953"
             ],
             [
              0.7777777777777778,
              "#fb9f3a"
             ],
             [
              0.8888888888888888,
              "#fdca26"
             ],
             [
              1,
              "#f0f921"
             ]
            ],
            "type": "heatmap"
           }
          ],
          "heatmapgl": [
           {
            "colorbar": {
             "outlinewidth": 0,
             "ticks": ""
            },
            "colorscale": [
             [
              0,
              "#0d0887"
             ],
             [
              0.1111111111111111,
              "#46039f"
             ],
             [
              0.2222222222222222,
              "#7201a8"
             ],
             [
              0.3333333333333333,
              "#9c179e"
             ],
             [
              0.4444444444444444,
              "#bd3786"
             ],
             [
              0.5555555555555556,
              "#d8576b"
             ],
             [
              0.6666666666666666,
              "#ed7953"
             ],
             [
              0.7777777777777778,
              "#fb9f3a"
             ],
             [
              0.8888888888888888,
              "#fdca26"
             ],
             [
              1,
              "#f0f921"
             ]
            ],
            "type": "heatmapgl"
           }
          ],
          "histogram": [
           {
            "marker": {
             "pattern": {
              "fillmode": "overlay",
              "size": 10,
              "solidity": 0.2
             }
            },
            "type": "histogram"
           }
          ],
          "histogram2d": [
           {
            "colorbar": {
             "outlinewidth": 0,
             "ticks": ""
            },
            "colorscale": [
             [
              0,
              "#0d0887"
             ],
             [
              0.1111111111111111,
              "#46039f"
             ],
             [
              0.2222222222222222,
              "#7201a8"
             ],
             [
              0.3333333333333333,
              "#9c179e"
             ],
             [
              0.4444444444444444,
              "#bd3786"
             ],
             [
              0.5555555555555556,
              "#d8576b"
             ],
             [
              0.6666666666666666,
              "#ed7953"
             ],
             [
              0.7777777777777778,
              "#fb9f3a"
             ],
             [
              0.8888888888888888,
              "#fdca26"
             ],
             [
              1,
              "#f0f921"
             ]
            ],
            "type": "histogram2d"
           }
          ],
          "histogram2dcontour": [
           {
            "colorbar": {
             "outlinewidth": 0,
             "ticks": ""
            },
            "colorscale": [
             [
              0,
              "#0d0887"
             ],
             [
              0.1111111111111111,
              "#46039f"
             ],
             [
              0.2222222222222222,
              "#7201a8"
             ],
             [
              0.3333333333333333,
              "#9c179e"
             ],
             [
              0.4444444444444444,
              "#bd3786"
             ],
             [
              0.5555555555555556,
              "#d8576b"
             ],
             [
              0.6666666666666666,
              "#ed7953"
             ],
             [
              0.7777777777777778,
              "#fb9f3a"
             ],
             [
              0.8888888888888888,
              "#fdca26"
             ],
             [
              1,
              "#f0f921"
             ]
            ],
            "type": "histogram2dcontour"
           }
          ],
          "mesh3d": [
           {
            "colorbar": {
             "outlinewidth": 0,
             "ticks": ""
            },
            "type": "mesh3d"
           }
          ],
          "parcoords": [
           {
            "line": {
             "colorbar": {
              "outlinewidth": 0,
              "ticks": ""
             }
            },
            "type": "parcoords"
           }
          ],
          "pie": [
           {
            "automargin": true,
            "type": "pie"
           }
          ],
          "scatter": [
           {
            "fillpattern": {
             "fillmode": "overlay",
             "size": 10,
             "solidity": 0.2
            },
            "type": "scatter"
           }
          ],
          "scatter3d": [
           {
            "line": {
             "colorbar": {
              "outlinewidth": 0,
              "ticks": ""
             }
            },
            "marker": {
             "colorbar": {
              "outlinewidth": 0,
              "ticks": ""
             }
            },
            "type": "scatter3d"
           }
          ],
          "scattercarpet": [
           {
            "marker": {
             "colorbar": {
              "outlinewidth": 0,
              "ticks": ""
             }
            },
            "type": "scattercarpet"
           }
          ],
          "scattergeo": [
           {
            "marker": {
             "colorbar": {
              "outlinewidth": 0,
              "ticks": ""
             }
            },
            "type": "scattergeo"
           }
          ],
          "scattergl": [
           {
            "marker": {
             "colorbar": {
              "outlinewidth": 0,
              "ticks": ""
             }
            },
            "type": "scattergl"
           }
          ],
          "scattermapbox": [
           {
            "marker": {
             "colorbar": {
              "outlinewidth": 0,
              "ticks": ""
             }
            },
            "type": "scattermapbox"
           }
          ],
          "scatterpolar": [
           {
            "marker": {
             "colorbar": {
              "outlinewidth": 0,
              "ticks": ""
             }
            },
            "type": "scatterpolar"
           }
          ],
          "scatterpolargl": [
           {
            "marker": {
             "colorbar": {
              "outlinewidth": 0,
              "ticks": ""
             }
            },
            "type": "scatterpolargl"
           }
          ],
          "scatterternary": [
           {
            "marker": {
             "colorbar": {
              "outlinewidth": 0,
              "ticks": ""
             }
            },
            "type": "scatterternary"
           }
          ],
          "surface": [
           {
            "colorbar": {
             "outlinewidth": 0,
             "ticks": ""
            },
            "colorscale": [
             [
              0,
              "#0d0887"
             ],
             [
              0.1111111111111111,
              "#46039f"
             ],
             [
              0.2222222222222222,
              "#7201a8"
             ],
             [
              0.3333333333333333,
              "#9c179e"
             ],
             [
              0.4444444444444444,
              "#bd3786"
             ],
             [
              0.5555555555555556,
              "#d8576b"
             ],
             [
              0.6666666666666666,
              "#ed7953"
             ],
             [
              0.7777777777777778,
              "#fb9f3a"
             ],
             [
              0.8888888888888888,
              "#fdca26"
             ],
             [
              1,
              "#f0f921"
             ]
            ],
            "type": "surface"
           }
          ],
          "table": [
           {
            "cells": {
             "fill": {
              "color": "#EBF0F8"
             },
             "line": {
              "color": "white"
             }
            },
            "header": {
             "fill": {
              "color": "#C8D4E3"
             },
             "line": {
              "color": "white"
             }
            },
            "type": "table"
           }
          ]
         },
         "layout": {
          "annotationdefaults": {
           "arrowcolor": "#2a3f5f",
           "arrowhead": 0,
           "arrowwidth": 1
          },
          "autotypenumbers": "strict",
          "coloraxis": {
           "colorbar": {
            "outlinewidth": 0,
            "ticks": ""
           }
          },
          "colorscale": {
           "diverging": [
            [
             0,
             "#8e0152"
            ],
            [
             0.1,
             "#c51b7d"
            ],
            [
             0.2,
             "#de77ae"
            ],
            [
             0.3,
             "#f1b6da"
            ],
            [
             0.4,
             "#fde0ef"
            ],
            [
             0.5,
             "#f7f7f7"
            ],
            [
             0.6,
             "#e6f5d0"
            ],
            [
             0.7,
             "#b8e186"
            ],
            [
             0.8,
             "#7fbc41"
            ],
            [
             0.9,
             "#4d9221"
            ],
            [
             1,
             "#276419"
            ]
           ],
           "sequential": [
            [
             0,
             "#0d0887"
            ],
            [
             0.1111111111111111,
             "#46039f"
            ],
            [
             0.2222222222222222,
             "#7201a8"
            ],
            [
             0.3333333333333333,
             "#9c179e"
            ],
            [
             0.4444444444444444,
             "#bd3786"
            ],
            [
             0.5555555555555556,
             "#d8576b"
            ],
            [
             0.6666666666666666,
             "#ed7953"
            ],
            [
             0.7777777777777778,
             "#fb9f3a"
            ],
            [
             0.8888888888888888,
             "#fdca26"
            ],
            [
             1,
             "#f0f921"
            ]
           ],
           "sequentialminus": [
            [
             0,
             "#0d0887"
            ],
            [
             0.1111111111111111,
             "#46039f"
            ],
            [
             0.2222222222222222,
             "#7201a8"
            ],
            [
             0.3333333333333333,
             "#9c179e"
            ],
            [
             0.4444444444444444,
             "#bd3786"
            ],
            [
             0.5555555555555556,
             "#d8576b"
            ],
            [
             0.6666666666666666,
             "#ed7953"
            ],
            [
             0.7777777777777778,
             "#fb9f3a"
            ],
            [
             0.8888888888888888,
             "#fdca26"
            ],
            [
             1,
             "#f0f921"
            ]
           ]
          },
          "colorway": [
           "#636efa",
           "#EF553B",
           "#00cc96",
           "#ab63fa",
           "#FFA15A",
           "#19d3f3",
           "#FF6692",
           "#B6E880",
           "#FF97FF",
           "#FECB52"
          ],
          "font": {
           "color": "#2a3f5f"
          },
          "geo": {
           "bgcolor": "white",
           "lakecolor": "white",
           "landcolor": "#E5ECF6",
           "showlakes": true,
           "showland": true,
           "subunitcolor": "white"
          },
          "hoverlabel": {
           "align": "left"
          },
          "hovermode": "closest",
          "mapbox": {
           "style": "light"
          },
          "paper_bgcolor": "white",
          "plot_bgcolor": "#E5ECF6",
          "polar": {
           "angularaxis": {
            "gridcolor": "white",
            "linecolor": "white",
            "ticks": ""
           },
           "bgcolor": "#E5ECF6",
           "radialaxis": {
            "gridcolor": "white",
            "linecolor": "white",
            "ticks": ""
           }
          },
          "scene": {
           "xaxis": {
            "backgroundcolor": "#E5ECF6",
            "gridcolor": "white",
            "gridwidth": 2,
            "linecolor": "white",
            "showbackground": true,
            "ticks": "",
            "zerolinecolor": "white"
           },
           "yaxis": {
            "backgroundcolor": "#E5ECF6",
            "gridcolor": "white",
            "gridwidth": 2,
            "linecolor": "white",
            "showbackground": true,
            "ticks": "",
            "zerolinecolor": "white"
           },
           "zaxis": {
            "backgroundcolor": "#E5ECF6",
            "gridcolor": "white",
            "gridwidth": 2,
            "linecolor": "white",
            "showbackground": true,
            "ticks": "",
            "zerolinecolor": "white"
           }
          },
          "shapedefaults": {
           "line": {
            "color": "#2a3f5f"
           }
          },
          "ternary": {
           "aaxis": {
            "gridcolor": "white",
            "linecolor": "white",
            "ticks": ""
           },
           "baxis": {
            "gridcolor": "white",
            "linecolor": "white",
            "ticks": ""
           },
           "bgcolor": "#E5ECF6",
           "caxis": {
            "gridcolor": "white",
            "linecolor": "white",
            "ticks": ""
           }
          },
          "title": {
           "x": 0.05
          },
          "xaxis": {
           "automargin": true,
           "gridcolor": "white",
           "linecolor": "white",
           "ticks": "",
           "title": {
            "standoff": 15
           },
           "zerolinecolor": "white",
           "zerolinewidth": 2
          },
          "yaxis": {
           "automargin": true,
           "gridcolor": "white",
           "linecolor": "white",
           "ticks": "",
           "title": {
            "standoff": 15
           },
           "zerolinecolor": "white",
           "zerolinewidth": 2
          }
         }
        },
        "xaxis": {
         "title": {
          "text": "Num Datapoints"
         }
        },
        "yaxis": {
         "title": {
          "text": "Score"
         }
        }
       }
      },
      "text/html": [
       "<div>                            <div id=\"be78a629-22a5-4942-956a-e17eb6d63d83\" class=\"plotly-graph-div\" style=\"height:525px; width:100%;\"></div>            <script type=\"text/javascript\">                require([\"plotly\"], function(Plotly) {                    window.PLOTLYENV=window.PLOTLYENV || {};                                    if (document.getElementById(\"be78a629-22a5-4942-956a-e17eb6d63d83\")) {                    Plotly.newPlot(                        \"be78a629-22a5-4942-956a-e17eb6d63d83\",                        [{\"line\":{\"color\":\"red\"},\"name\":\"sigma=0.0,type=replica\",\"opacity\":0.8,\"x\":[10,20,40],\"y\":[0.33975661270005664,0.4749756498597613,0.8559502060166487],\"type\":\"scatter\"},{\"fill\":\"toself\",\"fillcolor\":\"red\",\"hoverinfo\":\"skip\",\"line\":{\"color\":\"red\"},\"marker\":{\"opacity\":0},\"opacity\":0.2,\"showlegend\":false,\"x\":[10,20,40,40,20,10],\"y\":[0.36869953939693273,0.4969908611824123,0.8660805690727716,0.8429940696553857,0.4529604385371103,0.3108136860031806],\"type\":\"scatter\"},{\"line\":{\"color\":\"green\"},\"name\":\"sigma=0.1,type=replica\",\"opacity\":0.8,\"x\":[10,20,40],\"y\":[0.3576840666355539,0.5551340286329816,0.8831916352668665],\"type\":\"scatter\"},{\"fill\":\"toself\",\"fillcolor\":\"green\",\"hoverinfo\":\"skip\",\"line\":{\"color\":\"green\"},\"marker\":{\"opacity\":0},\"opacity\":0.2,\"showlegend\":false,\"x\":[10,20,40,40,20,10],\"y\":[0.40017718235380423,0.5700150829467114,0.8922634679525053,0.8735458002942953,0.5334880808578414,0.3538961114572596],\"type\":\"scatter\"},{\"line\":{\"color\":\"blue\"},\"name\":\"sigma=0.05,type=replica\",\"opacity\":0.8,\"x\":[10,20,40],\"y\":[0.3522898548950599,0.5116452710977902,0.8651783086908316],\"type\":\"scatter\"},{\"fill\":\"toself\",\"fillcolor\":\"blue\",\"hoverinfo\":\"skip\",\"line\":{\"color\":\"blue\"},\"marker\":{\"opacity\":0},\"opacity\":0.2,\"showlegend\":false,\"x\":[10,20,40,40,20,10],\"y\":[0.36664776065220667,0.5195126135550662,0.8709313410802662,0.8535560208525794,0.4978532968661093,0.3228744445233791],\"type\":\"scatter\"},{\"line\":{\"color\":\"orange\"},\"name\":\"sigma=1.0,type=replica\",\"opacity\":0.8,\"x\":[10,20,40],\"y\":[0.3244050605667279,0.34319168271006945,0.5017356062901164],\"type\":\"scatter\"},{\"fill\":\"toself\",\"fillcolor\":\"orange\",\"hoverinfo\":\"skip\",\"line\":{\"color\":\"orange\"},\"marker\":{\"opacity\":0},\"opacity\":0.2,\"showlegend\":false,\"x\":[10,20,40,40,20,10],\"y\":[0.3675236945324095,0.3472619751530294,0.5375912220914545,0.4891387178580293,0.34154062327706874,0.29812163608353015],\"type\":\"scatter\"}],                        {\"template\":{\"data\":{\"histogram2dcontour\":[{\"type\":\"histogram2dcontour\",\"colorbar\":{\"outlinewidth\":0,\"ticks\":\"\"},\"colorscale\":[[0.0,\"#0d0887\"],[0.1111111111111111,\"#46039f\"],[0.2222222222222222,\"#7201a8\"],[0.3333333333333333,\"#9c179e\"],[0.4444444444444444,\"#bd3786\"],[0.5555555555555556,\"#d8576b\"],[0.6666666666666666,\"#ed7953\"],[0.7777777777777778,\"#fb9f3a\"],[0.8888888888888888,\"#fdca26\"],[1.0,\"#f0f921\"]]}],\"choropleth\":[{\"type\":\"choropleth\",\"colorbar\":{\"outlinewidth\":0,\"ticks\":\"\"}}],\"histogram2d\":[{\"type\":\"histogram2d\",\"colorbar\":{\"outlinewidth\":0,\"ticks\":\"\"},\"colorscale\":[[0.0,\"#0d0887\"],[0.1111111111111111,\"#46039f\"],[0.2222222222222222,\"#7201a8\"],[0.3333333333333333,\"#9c179e\"],[0.4444444444444444,\"#bd3786\"],[0.5555555555555556,\"#d8576b\"],[0.6666666666666666,\"#ed7953\"],[0.7777777777777778,\"#fb9f3a\"],[0.8888888888888888,\"#fdca26\"],[1.0,\"#f0f921\"]]}],\"heatmap\":[{\"type\":\"heatmap\",\"colorbar\":{\"outlinewidth\":0,\"ticks\":\"\"},\"colorscale\":[[0.0,\"#0d0887\"],[0.1111111111111111,\"#46039f\"],[0.2222222222222222,\"#7201a8\"],[0.3333333333333333,\"#9c179e\"],[0.4444444444444444,\"#bd3786\"],[0.5555555555555556,\"#d8576b\"],[0.6666666666666666,\"#ed7953\"],[0.7777777777777778,\"#fb9f3a\"],[0.8888888888888888,\"#fdca26\"],[1.0,\"#f0f921\"]]}],\"heatmapgl\":[{\"type\":\"heatmapgl\",\"colorbar\":{\"outlinewidth\":0,\"ticks\":\"\"},\"colorscale\":[[0.0,\"#0d0887\"],[0.1111111111111111,\"#46039f\"],[0.2222222222222222,\"#7201a8\"],[0.3333333333333333,\"#9c179e\"],[0.4444444444444444,\"#bd3786\"],[0.5555555555555556,\"#d8576b\"],[0.6666666666666666,\"#ed7953\"],[0.7777777777777778,\"#fb9f3a\"],[0.8888888888888888,\"#fdca26\"],[1.0,\"#f0f921\"]]}],\"contourcarpet\":[{\"type\":\"contourcarpet\",\"colorbar\":{\"outlinewidth\":0,\"ticks\":\"\"}}],\"contour\":[{\"type\":\"contour\",\"colorbar\":{\"outlinewidth\":0,\"ticks\":\"\"},\"colorscale\":[[0.0,\"#0d0887\"],[0.1111111111111111,\"#46039f\"],[0.2222222222222222,\"#7201a8\"],[0.3333333333333333,\"#9c179e\"],[0.4444444444444444,\"#bd3786\"],[0.5555555555555556,\"#d8576b\"],[0.6666666666666666,\"#ed7953\"],[0.7777777777777778,\"#fb9f3a\"],[0.8888888888888888,\"#fdca26\"],[1.0,\"#f0f921\"]]}],\"surface\":[{\"type\":\"surface\",\"colorbar\":{\"outlinewidth\":0,\"ticks\":\"\"},\"colorscale\":[[0.0,\"#0d0887\"],[0.1111111111111111,\"#46039f\"],[0.2222222222222222,\"#7201a8\"],[0.3333333333333333,\"#9c179e\"],[0.4444444444444444,\"#bd3786\"],[0.5555555555555556,\"#d8576b\"],[0.6666666666666666,\"#ed7953\"],[0.7777777777777778,\"#fb9f3a\"],[0.8888888888888888,\"#fdca26\"],[1.0,\"#f0f921\"]]}],\"mesh3d\":[{\"type\":\"mesh3d\",\"colorbar\":{\"outlinewidth\":0,\"ticks\":\"\"}}],\"scatter\":[{\"fillpattern\":{\"fillmode\":\"overlay\",\"size\":10,\"solidity\":0.2},\"type\":\"scatter\"}],\"parcoords\":[{\"type\":\"parcoords\",\"line\":{\"colorbar\":{\"outlinewidth\":0,\"ticks\":\"\"}}}],\"scatterpolargl\":[{\"type\":\"scatterpolargl\",\"marker\":{\"colorbar\":{\"outlinewidth\":0,\"ticks\":\"\"}}}],\"bar\":[{\"error_x\":{\"color\":\"#2a3f5f\"},\"error_y\":{\"color\":\"#2a3f5f\"},\"marker\":{\"line\":{\"color\":\"#E5ECF6\",\"width\":0.5},\"pattern\":{\"fillmode\":\"overlay\",\"size\":10,\"solidity\":0.2}},\"type\":\"bar\"}],\"scattergeo\":[{\"type\":\"scattergeo\",\"marker\":{\"colorbar\":{\"outlinewidth\":0,\"ticks\":\"\"}}}],\"scatterpolar\":[{\"type\":\"scatterpolar\",\"marker\":{\"colorbar\":{\"outlinewidth\":0,\"ticks\":\"\"}}}],\"histogram\":[{\"marker\":{\"pattern\":{\"fillmode\":\"overlay\",\"size\":10,\"solidity\":0.2}},\"type\":\"histogram\"}],\"scattergl\":[{\"type\":\"scattergl\",\"marker\":{\"colorbar\":{\"outlinewidth\":0,\"ticks\":\"\"}}}],\"scatter3d\":[{\"type\":\"scatter3d\",\"line\":{\"colorbar\":{\"outlinewidth\":0,\"ticks\":\"\"}},\"marker\":{\"colorbar\":{\"outlinewidth\":0,\"ticks\":\"\"}}}],\"scattermapbox\":[{\"type\":\"scattermapbox\",\"marker\":{\"colorbar\":{\"outlinewidth\":0,\"ticks\":\"\"}}}],\"scatterternary\":[{\"type\":\"scatterternary\",\"marker\":{\"colorbar\":{\"outlinewidth\":0,\"ticks\":\"\"}}}],\"scattercarpet\":[{\"type\":\"scattercarpet\",\"marker\":{\"colorbar\":{\"outlinewidth\":0,\"ticks\":\"\"}}}],\"carpet\":[{\"aaxis\":{\"endlinecolor\":\"#2a3f5f\",\"gridcolor\":\"white\",\"linecolor\":\"white\",\"minorgridcolor\":\"white\",\"startlinecolor\":\"#2a3f5f\"},\"baxis\":{\"endlinecolor\":\"#2a3f5f\",\"gridcolor\":\"white\",\"linecolor\":\"white\",\"minorgridcolor\":\"white\",\"startlinecolor\":\"#2a3f5f\"},\"type\":\"carpet\"}],\"table\":[{\"cells\":{\"fill\":{\"color\":\"#EBF0F8\"},\"line\":{\"color\":\"white\"}},\"header\":{\"fill\":{\"color\":\"#C8D4E3\"},\"line\":{\"color\":\"white\"}},\"type\":\"table\"}],\"barpolar\":[{\"marker\":{\"line\":{\"color\":\"#E5ECF6\",\"width\":0.5},\"pattern\":{\"fillmode\":\"overlay\",\"size\":10,\"solidity\":0.2}},\"type\":\"barpolar\"}],\"pie\":[{\"automargin\":true,\"type\":\"pie\"}]},\"layout\":{\"autotypenumbers\":\"strict\",\"colorway\":[\"#636efa\",\"#EF553B\",\"#00cc96\",\"#ab63fa\",\"#FFA15A\",\"#19d3f3\",\"#FF6692\",\"#B6E880\",\"#FF97FF\",\"#FECB52\"],\"font\":{\"color\":\"#2a3f5f\"},\"hovermode\":\"closest\",\"hoverlabel\":{\"align\":\"left\"},\"paper_bgcolor\":\"white\",\"plot_bgcolor\":\"#E5ECF6\",\"polar\":{\"bgcolor\":\"#E5ECF6\",\"angularaxis\":{\"gridcolor\":\"white\",\"linecolor\":\"white\",\"ticks\":\"\"},\"radialaxis\":{\"gridcolor\":\"white\",\"linecolor\":\"white\",\"ticks\":\"\"}},\"ternary\":{\"bgcolor\":\"#E5ECF6\",\"aaxis\":{\"gridcolor\":\"white\",\"linecolor\":\"white\",\"ticks\":\"\"},\"baxis\":{\"gridcolor\":\"white\",\"linecolor\":\"white\",\"ticks\":\"\"},\"caxis\":{\"gridcolor\":\"white\",\"linecolor\":\"white\",\"ticks\":\"\"}},\"coloraxis\":{\"colorbar\":{\"outlinewidth\":0,\"ticks\":\"\"}},\"colorscale\":{\"sequential\":[[0.0,\"#0d0887\"],[0.1111111111111111,\"#46039f\"],[0.2222222222222222,\"#7201a8\"],[0.3333333333333333,\"#9c179e\"],[0.4444444444444444,\"#bd3786\"],[0.5555555555555556,\"#d8576b\"],[0.6666666666666666,\"#ed7953\"],[0.7777777777777778,\"#fb9f3a\"],[0.8888888888888888,\"#fdca26\"],[1.0,\"#f0f921\"]],\"sequentialminus\":[[0.0,\"#0d0887\"],[0.1111111111111111,\"#46039f\"],[0.2222222222222222,\"#7201a8\"],[0.3333333333333333,\"#9c179e\"],[0.4444444444444444,\"#bd3786\"],[0.5555555555555556,\"#d8576b\"],[0.6666666666666666,\"#ed7953\"],[0.7777777777777778,\"#fb9f3a\"],[0.8888888888888888,\"#fdca26\"],[1.0,\"#f0f921\"]],\"diverging\":[[0,\"#8e0152\"],[0.1,\"#c51b7d\"],[0.2,\"#de77ae\"],[0.3,\"#f1b6da\"],[0.4,\"#fde0ef\"],[0.5,\"#f7f7f7\"],[0.6,\"#e6f5d0\"],[0.7,\"#b8e186\"],[0.8,\"#7fbc41\"],[0.9,\"#4d9221\"],[1,\"#276419\"]]},\"xaxis\":{\"gridcolor\":\"white\",\"linecolor\":\"white\",\"ticks\":\"\",\"title\":{\"standoff\":15},\"zerolinecolor\":\"white\",\"automargin\":true,\"zerolinewidth\":2},\"yaxis\":{\"gridcolor\":\"white\",\"linecolor\":\"white\",\"ticks\":\"\",\"title\":{\"standoff\":15},\"zerolinecolor\":\"white\",\"automargin\":true,\"zerolinewidth\":2},\"scene\":{\"xaxis\":{\"backgroundcolor\":\"#E5ECF6\",\"gridcolor\":\"white\",\"linecolor\":\"white\",\"showbackground\":true,\"ticks\":\"\",\"zerolinecolor\":\"white\",\"gridwidth\":2},\"yaxis\":{\"backgroundcolor\":\"#E5ECF6\",\"gridcolor\":\"white\",\"linecolor\":\"white\",\"showbackground\":true,\"ticks\":\"\",\"zerolinecolor\":\"white\",\"gridwidth\":2},\"zaxis\":{\"backgroundcolor\":\"#E5ECF6\",\"gridcolor\":\"white\",\"linecolor\":\"white\",\"showbackground\":true,\"ticks\":\"\",\"zerolinecolor\":\"white\",\"gridwidth\":2}},\"shapedefaults\":{\"line\":{\"color\":\"#2a3f5f\"}},\"annotationdefaults\":{\"arrowcolor\":\"#2a3f5f\",\"arrowhead\":0,\"arrowwidth\":1},\"geo\":{\"bgcolor\":\"white\",\"landcolor\":\"#E5ECF6\",\"subunitcolor\":\"white\",\"showland\":true,\"showlakes\":true,\"lakecolor\":\"white\"},\"title\":{\"x\":0.05},\"mapbox\":{\"style\":\"light\"}}},\"xaxis\":{\"title\":{\"text\":\"Num Datapoints\"}},\"yaxis\":{\"title\":{\"text\":\"Score\"}}},                        {\"responsive\": true}                    ).then(function(){\n",
       "                            \n",
       "var gd = document.getElementById('be78a629-22a5-4942-956a-e17eb6d63d83');\n",
       "var x = new MutationObserver(function (mutations, observer) {{\n",
       "        var display = window.getComputedStyle(gd).display;\n",
       "        if (!display || display === 'none') {{\n",
       "            console.log([gd, 'removed!']);\n",
       "            Plotly.purge(gd);\n",
       "            observer.disconnect();\n",
       "        }}\n",
       "}});\n",
       "\n",
       "// Listen for the removal of the full notebook cells\n",
       "var notebookContainer = gd.closest('#notebook-container');\n",
       "if (notebookContainer) {{\n",
       "    x.observe(notebookContainer, {childList: true});\n",
       "}}\n",
       "\n",
       "// Listen for the clearing of the current output cell\n",
       "var outputEl = gd.closest('.output');\n",
       "if (outputEl) {{\n",
       "    x.observe(outputEl, {childList: true});\n",
       "}}\n",
       "\n",
       "                        })                };                });            </script>        </div>"
      ]
     },
     "metadata": {},
     "output_type": "display_data"
    }
   ],
   "source": [
    "reduced_data = data[(data['type'] == \"replica\") & (data['sigma'] != 0.0001) & (data['sigma'] != 0.001) & (data['sigma'] != 0.5)]\n",
    "fig = go.Figure(list(scatter(reduced_data, 'num', 'max_score',\n",
    "                             l1_groups=['sigma'], l2_groups=['type'],\n",
    "                             is_dashed=lambda x: x['type'] != 'replica')))\n",
    "fig.update_layout(xaxis_title=\"Num Datapoints\",yaxis_title=\"Score\")\n",
    "fig"
   ]
  },
  {
   "cell_type": "code",
   "execution_count": null,
   "id": "1945a993",
   "metadata": {},
   "outputs": [],
   "source": []
  }
 ],
 "metadata": {
  "kernelspec": {
   "display_name": "Python 3 (ipykernel)",
   "language": "python",
   "name": "python3"
  },
  "language_info": {
   "codemirror_mode": {
    "name": "ipython",
    "version": 3
   },
   "file_extension": ".py",
   "mimetype": "text/x-python",
   "name": "python",
   "nbconvert_exporter": "python",
   "pygments_lexer": "ipython3",
   "version": "3.9.15"
  }
 },
 "nbformat": 4,
 "nbformat_minor": 5
}
